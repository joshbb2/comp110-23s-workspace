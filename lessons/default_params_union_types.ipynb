{
 "cells": [
  {
   "cell_type": "markdown",
   "metadata": {},
   "source": [
    "# Practice with default parameters and union types"
   ]
  },
  {
   "attachments": {},
   "cell_type": "markdown",
   "metadata": {},
   "source": [
    "## SewingMaterials Class"
   ]
  },
  {
   "attachments": {},
   "cell_type": "markdown",
   "metadata": {},
   "source": [
    "Let's make a SewingMaterials class with one attributes -> fabric: dict[str,float] that stores the types of fabric I have and amount of yards I have of it.\n",
    "\n",
    "1) Make an ____init____ method that initializes fabric as an empty dict.\n",
    "\n",
    "2) Make an add_fabric method that takes kind: str AND yards: float as arguments and adds that fabric to inventory.\n",
    "\n"
   ]
  },
  {
   "cell_type": "code",
   "execution_count": 8,
   "metadata": {},
   "outputs": [],
   "source": [
    "from typing import Union\n",
    "\n",
    "class SewingMaterials:\n",
    "\n",
    "    fabric: dict[str, float]\n",
    "\n",
    "    def __init__(self):\n",
    "        \"\"\"Initializes my SewingMaterials object with empty fabric.\"\"\"\n",
    "        self.fabric = {}\n",
    "    \n",
    "    def add_fabric(self, kind: str = \"cotton\", yards: Union[float, int] = 1.0) -> None:\n",
    "        \"\"\"Updates self.fabric\"\"\"\n",
    "        self.fabric[kind] = float(yards)\n"
   ]
  },
  {
   "attachments": {},
   "cell_type": "markdown",
   "metadata": {},
   "source": [
    "### Test it so far:"
   ]
  },
  {
   "attachments": {},
   "cell_type": "markdown",
   "metadata": {},
   "source": [
    "- Create a new SewingMaterials object named my_bin.\n",
    "- Add 1 yard of \"cotton\" to it and 2 yards of \"suede\".\n",
    "- Print the inventory to view the new inventory.\n"
   ]
  },
  {
   "attachments": {},
   "cell_type": "markdown",
   "metadata": {},
   "source": [
    "### Modify add_fabric so that by default we add 1 yard of cotton fabric.\n",
    "\n",
    "### Modify add_fabric so that yards can be a float or an int."
   ]
  },
  {
   "cell_type": "code",
   "execution_count": 9,
   "metadata": {},
   "outputs": [
    {
     "name": "stdout",
     "output_type": "stream",
     "text": [
      "{'silk': 1.0, 'suede': 3.0}\n"
     ]
    }
   ],
   "source": [
    "my_bin: SewingMaterials = SewingMaterials()\n",
    "# my_bin.add_fabric(\"cotton\", 1.0)\n",
    "my_bin.add_fabric(\"silk\")\n",
    "my_bin.add_fabric(\"suede\", 3)\n",
    "print(my_bin.fabric)"
   ]
  }
 ],
 "metadata": {
  "kernelspec": {
   "display_name": "Python 3",
   "language": "python",
   "name": "python3"
  },
  "language_info": {
   "codemirror_mode": {
    "name": "ipython",
    "version": 3
   },
   "file_extension": ".py",
   "mimetype": "text/x-python",
   "name": "python",
   "nbconvert_exporter": "python",
   "pygments_lexer": "ipython3",
   "version": "3.11.1"
  },
  "orig_nbformat": 4,
  "vscode": {
   "interpreter": {
    "hash": "aee8b7b246df8f9039afb4144a1f6fd8d2ca17a180786b69acc140d282b71a49"
   }
  }
 },
 "nbformat": 4,
 "nbformat_minor": 2
}
